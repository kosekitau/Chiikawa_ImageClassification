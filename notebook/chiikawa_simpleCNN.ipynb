{
  "nbformat": 4,
  "nbformat_minor": 0,
  "metadata": {
    "colab": {
      "name": "chiikawa_simpleCNN.ipynb",
      "provenance": []
    },
    "kernelspec": {
      "name": "python3",
      "display_name": "Python 3"
    },
    "language_info": {
      "name": "python"
    },
    "accelerator": "GPU"
  },
  "cells": [
    {
      "cell_type": "code",
      "execution_count": 2,
      "metadata": {
        "id": "pPDlPzQZUibe"
      },
      "outputs": [],
      "source": [
        "import numpy as np\n",
        "import matplotlib.pyplot as plt\n",
        "import  torch \n",
        "from torch import nn, optim\n",
        "import torch.nn.functional as F\n",
        "from torch.utils.data import DataLoader, Dataset\n",
        "import h5py"
      ]
    },
    {
      "cell_type": "code",
      "source": [
        "all_dataset = h5py.File(\"/content/drive/MyDrive/projects/chiikawa_classification/data/datasets.hdf5\", \"r\")\n",
        "\n",
        "X_train = np.array(all_dataset[\"train_set_X\"])\n",
        "y_train = np.array(all_dataset[\"train_set_y\"])\n",
        "\n",
        "X_val = np.array(all_dataset[\"val_set_X\"])\n",
        "y_val = np.array(all_dataset[\"val_set_y\"])\n",
        "\n",
        "X_test = np.array(all_dataset[\"eval_set_X\"])\n",
        "y_test = np.array(all_dataset[\"eval_set_y\"])"
      ],
      "metadata": {
        "id": "M2VQbPqHh6NW"
      },
      "execution_count": 7,
      "outputs": []
    },
    {
      "cell_type": "code",
      "source": [
        "print(X_train.shape, X_val.shape, X_test.shape)"
      ],
      "metadata": {
        "colab": {
          "base_uri": "https://localhost:8080/"
        },
        "id": "39G1zSVQtjgt",
        "outputId": "a9beda8c-c657-405a-af32-77c1d57588c1"
      },
      "execution_count": 8,
      "outputs": [
        {
          "output_type": "stream",
          "name": "stdout",
          "text": [
            "(897, 64, 64, 3) (100, 64, 64, 3) (100, 64, 64, 3)\n"
          ]
        }
      ]
    },
    {
      "cell_type": "code",
      "source": [
        "class ImageDataset(Dataset):\n",
        "    def __init__(self, x, y):\n",
        "        super().__init__()\n",
        "        self.x = torch.Tensor(x).permute(0,3,1,2).float() #NCHW -> NHWC\n",
        "        self.y = torch.Tensor(y).type(torch.LongTensor)\n",
        "               \n",
        "    def __len__(self):\n",
        "        return len(self.x)\n",
        "    \n",
        "    def __getitem__(self, index):\n",
        "        image = self.x[index] / 255.0\n",
        "        target = self.y[index]\n",
        "        \n",
        "        return image, target"
      ],
      "metadata": {
        "id": "V8Gswl5YlYSO"
      },
      "execution_count": 9,
      "outputs": []
    },
    {
      "cell_type": "code",
      "source": [
        "BATCH_SIZE = 32\n",
        "\n",
        "train_dataloader = DataLoader(ImageDataset(X_train, y_train), batch_size=BATCH_SIZE, shuffle=True, drop_last = True)\n",
        "val_dataloader = DataLoader(ImageDataset(X_val, y_val), batch_size=BATCH_SIZE, shuffle=True, drop_last = True)\n",
        "test_dataloader = DataLoader(ImageDataset(X_test, y_test), batch_size=BATCH_SIZE, shuffle=True, drop_last = True)\n",
        "\n",
        "dataloaders_dict = {'train': train_dataloader, 'val': val_dataloader}"
      ],
      "metadata": {
        "id": "WLHgfXChCLq0"
      },
      "execution_count": 10,
      "outputs": []
    },
    {
      "cell_type": "code",
      "source": [
        "# 入力画像は(64, 64)の3チャンネル\n",
        "model = nn.Sequential(\n",
        "    nn.ZeroPad2d(padding=3),\n",
        "    #入力チャンネル数, 出力チャンネル数,(フィルタの数) フィルタ(カーネル)の長さ\n",
        "    nn.Conv2d(3, 64, 11, stride=1), # フィルタ64枚で、カーネルサイズは11にしたい\n",
        "    nn.BatchNorm2d(64), # 入力チャンネル数\n",
        "    nn.ReLU(),\n",
        "    nn.MaxPool2d(2, stride=2),\n",
        "\n",
        "    nn.Conv2d(64, 64, 2, stride=1),\n",
        "    nn.BatchNorm2d(64),\n",
        "    nn.ReLU(),\n",
        "    nn.MaxPool2d(2, stride=2),\n",
        "\n",
        "    nn.Conv2d(64, 64, 2, stride=1),\n",
        "    nn.BatchNorm2d(64),\n",
        "    nn.ReLU(),\n",
        "    nn.MaxPool2d(2, stride=2),\n",
        "\n",
        "    nn.Flatten(),\n",
        "    nn.Linear(2304, 2)\n",
        ")"
      ],
      "metadata": {
        "id": "vclfe7NiCkOp"
      },
      "execution_count": 11,
      "outputs": []
    },
    {
      "cell_type": "code",
      "source": [
        "n_epoch = 10\n",
        "lr = 2e-4\n",
        "\n",
        "opt = optim.Adam(model.parameters(), lr=lr)\n",
        "criterion = nn.CrossEntropyLoss()"
      ],
      "metadata": {
        "id": "mkTcbamNHqU8"
      },
      "execution_count": 12,
      "outputs": []
    },
    {
      "cell_type": "code",
      "source": [
        "def train_model(model, criterion, optimizer, num_epochs=10):\n",
        "    \n",
        "    device = torch.device('cuda:0' if torch.cuda.is_available() else 'cpu')\n",
        "    print(device)\n",
        "    model.to(device)\n",
        "\n",
        "    for epoch in range(num_epochs):\n",
        "        print('Epoch {}/{}'.format(epoch, num_epochs - 1))\n",
        "        print('-' * 10)\n",
        "\n",
        "        # Each epoch has a training and validation phase\n",
        "        for phase in ['train', 'val']:\n",
        "            if phase == 'train':\n",
        "                model.train()  # Set model to training mode\n",
        "            else:\n",
        "                model.eval()   # Set model to evaluate mode\n",
        "\n",
        "            running_loss = 0.0 # epochの損失和\n",
        "            running_corrects = 0 # epochの正解数\n",
        "\n",
        "            for inputs, labels in dataloaders_dict[phase]:\n",
        "                inputs = inputs.to(device)\n",
        "                labels = labels.to(device)\n",
        "\n",
        "                # zero the parameter gradients\n",
        "                optimizer.zero_grad()\n",
        "\n",
        "                #学習フェーズならパラメータ更新\n",
        "                with torch.set_grad_enabled(phase == 'train'):\n",
        "                    outputs = model(inputs)\n",
        "                    _, preds = torch.max(outputs, 1)\n",
        "                    loss = criterion(outputs, labels)\n",
        "\n",
        "                    if phase == 'train':\n",
        "                        loss.backward()\n",
        "                        optimizer.step()\n",
        "\n",
        "                running_loss += loss.item() * inputs.size(0)\n",
        "                running_corrects += torch.sum(preds == labels.data)\n",
        "            \n",
        "            epoch_loss = running_loss / len(dataloaders_dict[phase].dataset)\n",
        "            epoch_acc = running_corrects.double() / len(dataloaders_dict[phase].dataset)\n",
        "\n",
        "            print('{} Loss: {:.4f} Acc: {:.4f}'.format(\n",
        "                phase, epoch_loss, epoch_acc))\n",
        "\n",
        "    return model"
      ],
      "metadata": {
        "id": "sY7hF2yZMno3"
      },
      "execution_count": 13,
      "outputs": []
    },
    {
      "cell_type": "code",
      "source": [
        "model = train_model(model, criterion, opt, n_epoch)"
      ],
      "metadata": {
        "colab": {
          "base_uri": "https://localhost:8080/"
        },
        "id": "UMgd7dioMt43",
        "outputId": "2a1d4835-b3a1-48d2-cb42-b448ff8208d3"
      },
      "execution_count": 14,
      "outputs": [
        {
          "output_type": "stream",
          "name": "stdout",
          "text": [
            "cuda:0\n",
            "Epoch 0/9\n",
            "----------\n",
            "train Loss: 0.1322 Acc: 0.9498\n",
            "val Loss: 0.1411 Acc: 0.9400\n",
            "Epoch 1/9\n",
            "----------\n",
            "train Loss: 0.0257 Acc: 0.9900\n",
            "val Loss: 0.0375 Acc: 0.9500\n",
            "Epoch 2/9\n",
            "----------\n",
            "train Loss: 0.0181 Acc: 0.9944\n",
            "val Loss: 0.0343 Acc: 0.9500\n",
            "Epoch 3/9\n",
            "----------\n",
            "train Loss: 0.0125 Acc: 0.9978\n",
            "val Loss: 0.0374 Acc: 0.9400\n",
            "Epoch 4/9\n",
            "----------\n",
            "train Loss: 0.0165 Acc: 0.9944\n",
            "val Loss: 0.0292 Acc: 0.9500\n",
            "Epoch 5/9\n",
            "----------\n",
            "train Loss: 0.0073 Acc: 0.9967\n",
            "val Loss: 0.0277 Acc: 0.9500\n",
            "Epoch 6/9\n",
            "----------\n",
            "train Loss: 0.0080 Acc: 0.9967\n",
            "val Loss: 0.0458 Acc: 0.9400\n",
            "Epoch 7/9\n",
            "----------\n",
            "train Loss: 0.0050 Acc: 0.9978\n",
            "val Loss: 0.0270 Acc: 0.9500\n",
            "Epoch 8/9\n",
            "----------\n",
            "train Loss: 0.0056 Acc: 0.9978\n",
            "val Loss: 0.0149 Acc: 0.9500\n",
            "Epoch 9/9\n",
            "----------\n",
            "train Loss: 0.0049 Acc: 0.9989\n",
            "val Loss: 0.0576 Acc: 0.9400\n"
          ]
        }
      ]
    },
    {
      "cell_type": "markdown",
      "source": [
        "### テストデータへの評価\n",
        "- 正解率\n",
        "- recall (再現率)\n",
        "- ちいかわなのにちいかわと予測できなかった画像表示"
      ],
      "metadata": {
        "id": "5DI741H9maCE"
      }
    },
    {
      "cell_type": "code",
      "source": [
        "device = torch.device('cuda:0' if torch.cuda.is_available() else 'cpu')\n",
        "print(device)\n",
        "model.eval()\n",
        "model.to(device)\n",
        "\n",
        "epoch_corrects = 0\n",
        "predictions = []\n",
        "targets = []\n",
        "images = []\n",
        "for inputs, labels in (test_dataloader):\n",
        "  images.extend(inputs)\n",
        "  inputs = inputs.to(device)\n",
        "  labels = labels.to(device)\n",
        "\n",
        "  with torch.set_grad_enabled(False):\n",
        "     outputs = model(inputs)\n",
        "     _, preds = torch.max(outputs, 1)\n",
        "     predictions.extend(preds.to('cpu').detach().numpy().copy())\n",
        "     targets.extend(labels.to('cpu').detach().numpy().copy())\n",
        "     epoch_corrects += torch.sum(preds == labels.data)\n",
        "\n",
        "epoch_acc = epoch_corrects.double() / len(test_dataloader.dataset)\n",
        "print('Accuracy: {:.4f}'.format(epoch_acc))"
      ],
      "metadata": {
        "colab": {
          "base_uri": "https://localhost:8080/"
        },
        "id": "Sagy87P66v1k",
        "outputId": "cfa7ab92-81b7-45ea-b3cf-2e198b01c5f7"
      },
      "execution_count": 44,
      "outputs": [
        {
          "output_type": "stream",
          "name": "stdout",
          "text": [
            "cuda:0\n",
            "Accuracy: 0.9300\n"
          ]
        }
      ]
    },
    {
      "cell_type": "code",
      "source": [
        "from sklearn.metrics import precision_score, recall_score\n",
        "from sklearn.metrics import confusion_matrix\n",
        "import matplotlib.pyplot as plt\n",
        "\n",
        "confmat = confusion_matrix(y_true=targets, y_pred=predictions)\n",
        "fig, ax = plt.subplots(figsize=(2.5, 2.5))\n",
        "ax.matshow(confmat, cmap=plt.cm.Blues, alpha=0.3)\n",
        "\n",
        "for i in range(confmat.shape[0]):\n",
        "  for j in range(confmat.shape[1]):\n",
        "    ax.text(x=j, y=i, s=confmat[i, j], va='center', ha='center')\n",
        "\n",
        "plt.xlabel('predicted label')\n",
        "plt.ylabel('true label')\n",
        "plt.tight_layout()\n",
        "plt.show()\n",
        "\n",
        "precision = precision_score(targets, predictions)\n",
        "recall = recall_score(targets, predictions)\n",
        "print(f'Precision：{precision}.')\n",
        "print(f'Recall：{recall}.')"
      ],
      "metadata": {
        "colab": {
          "base_uri": "https://localhost:8080/",
          "height": 224
        },
        "id": "vi3Uwyx7A-6M",
        "outputId": "cac0a4b7-3de2-46ae-de53-68dcc0431f5b"
      },
      "execution_count": 45,
      "outputs": [
        {
          "output_type": "display_data",
          "data": {
            "text/plain": [
              "<Figure size 180x180 with 1 Axes>"
            ],
            "image/png": "[encoded data removed]"
          },
          "metadata": {
            "needs_background": "light"
          }
        },
        {
          "output_type": "stream",
          "name": "stdout",
          "text": [
            "Precision：1.0.\n",
            "Recall：0.9387755102040817.\n"
          ]
        }
      ]
    },
    {
      "cell_type": "markdown",
      "source": [
        "ちいかわでないと予測したけどちいかわだったやつを抜き取る"
      ],
      "metadata": {
        "id": "LLp7U6zbwFDJ"
      }
    },
    {
      "cell_type": "code",
      "source": [
        "targets = np.array(targets)\n",
        "predictions = np.array(predictions)\n",
        "images = np.array(images)\n",
        "idx = np.where( (targets==1) & (predictions==0) )[0]"
      ],
      "metadata": {
        "id": "Njwzuo6Modiw"
      },
      "execution_count": 78,
      "outputs": []
    },
    {
      "cell_type": "code",
      "source": [
        "import matplotlib.pyplot as plt\n",
        "\n",
        "for i in idx:\n",
        "  print(i)\n",
        "  plt.imshow(images[i].to('cpu').detach().numpy().transpose(1, 2, 0))\n",
        "  plt.show()\n",
        "plt.close()"
      ],
      "metadata": {
        "colab": {
          "base_uri": "https://localhost:8080/",
          "height": 823
        },
        "id": "LYWzhmUArGz5",
        "outputId": "a384248d-d163-4d36-97ae-5b069ef2146a"
      },
      "execution_count": 81,
      "outputs": [
        {
          "output_type": "stream",
          "name": "stdout",
          "text": [
            "20\n"
          ]
        },
        {
          "output_type": "display_data",
          "data": {
            "text/plain": [
              "<Figure size 432x288 with 1 Axes>"
            ],
            "image/png": "[encoded data removed]"
          },
          "metadata": {
            "needs_background": "light"
          }
        },
        {
          "output_type": "stream",
          "name": "stdout",
          "text": [
            "39\n"
          ]
        },
        {
          "output_type": "display_data",
          "data": {
            "text/plain": [
              "<Figure size 432x288 with 1 Axes>"
            ],
            "image/png": "[encoded data removed]"
          },
          "metadata": {
            "needs_background": "light"
          }
        },
        {
          "output_type": "stream",
          "name": "stdout",
          "text": [
            "52\n"
          ]
        },
        {
          "output_type": "display_data",
          "data": {
            "text/plain": [
              "<Figure size 432x288 with 1 Axes>"
            ],
            "image/png": "[encoded data removed]"
          },
          "metadata": {
            "needs_background": "light"
          }
        }
      ]
    },
    {
      "cell_type": "code",
      "source": [
        ""
      ],
      "metadata": {
        "id": "d4eO0-TRuRyp"
      },
      "execution_count": null,
      "outputs": []
    },
    {
      "cell_type": "code",
      "source": [
        ""
      ],
      "metadata": {
        "id": "N0qi9PjAwCgU"
      },
      "execution_count": null,
      "outputs": []
    },
    {
      "cell_type": "code",
      "source": [
        ""
      ],
      "metadata": {
        "id": "0ojq0Ji6wCk1"
      },
      "execution_count": null,
      "outputs": []
    }
  ]
}