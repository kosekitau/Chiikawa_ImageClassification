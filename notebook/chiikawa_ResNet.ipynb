{
  "nbformat": 4,
  "nbformat_minor": 0,
  "metadata": {
    "colab": {
      "name": "chiikawa_ResNet.ipynb",
      "provenance": []
    },
    "kernelspec": {
      "name": "python3",
      "display_name": "Python 3"
    },
    "language_info": {
      "name": "python"
    },
    "accelerator": "GPU",
    "widgets": {
      "application/vnd.jupyter.widget-state+json": {
        "477ad0e400424d9cb74254d21f07d564": {
          "model_module": "@jupyter-widgets/controls",
          "model_name": "HBoxModel",
          "model_module_version": "1.5.0",
          "state": {
            "_dom_classes": [],
            "_model_module": "@jupyter-widgets/controls",
            "_model_module_version": "1.5.0",
            "_model_name": "HBoxModel",
            "_view_count": null,
            "_view_module": "@jupyter-widgets/controls",
            "_view_module_version": "1.5.0",
            "_view_name": "HBoxView",
            "box_style": "",
            "children": [
              "IPY_MODEL_aa98d7e0f89b441094e15d1cf971453d",
              "IPY_MODEL_02f07d36577b4d218a6b4cb428e7f858",
              "IPY_MODEL_fc5311da40184702936b31fb68ffabd8"
            ],
            "layout": "IPY_MODEL_58465ad6396b4ff390c35e913ffec134"
          }
        },
        "aa98d7e0f89b441094e15d1cf971453d": {
          "model_module": "@jupyter-widgets/controls",
          "model_name": "HTMLModel",
          "model_module_version": "1.5.0",
          "state": {
            "_dom_classes": [],
            "_model_module": "@jupyter-widgets/controls",
            "_model_module_version": "1.5.0",
            "_model_name": "HTMLModel",
            "_view_count": null,
            "_view_module": "@jupyter-widgets/controls",
            "_view_module_version": "1.5.0",
            "_view_name": "HTMLView",
            "description": "",
            "description_tooltip": null,
            "layout": "IPY_MODEL_ba1e4968ba55443f86cb7259fc5b5694",
            "placeholder": "​",
            "style": "IPY_MODEL_1e17c37359cc478bb7fadc031f08aeda",
            "value": "100%"
          }
        },
        "02f07d36577b4d218a6b4cb428e7f858": {
          "model_module": "@jupyter-widgets/controls",
          "model_name": "FloatProgressModel",
          "model_module_version": "1.5.0",
          "state": {
            "_dom_classes": [],
            "_model_module": "@jupyter-widgets/controls",
            "_model_module_version": "1.5.0",
            "_model_name": "FloatProgressModel",
            "_view_count": null,
            "_view_module": "@jupyter-widgets/controls",
            "_view_module_version": "1.5.0",
            "_view_name": "ProgressView",
            "bar_style": "success",
            "description": "",
            "description_tooltip": null,
            "layout": "IPY_MODEL_f7d8d0d342564781a644936925228928",
            "max": 46830571,
            "min": 0,
            "orientation": "horizontal",
            "style": "IPY_MODEL_044e65f545384b7bbe934951eca02580",
            "value": 46830571
          }
        },
        "fc5311da40184702936b31fb68ffabd8": {
          "model_module": "@jupyter-widgets/controls",
          "model_name": "HTMLModel",
          "model_module_version": "1.5.0",
          "state": {
            "_dom_classes": [],
            "_model_module": "@jupyter-widgets/controls",
            "_model_module_version": "1.5.0",
            "_model_name": "HTMLModel",
            "_view_count": null,
            "_view_module": "@jupyter-widgets/controls",
            "_view_module_version": "1.5.0",
            "_view_name": "HTMLView",
            "description": "",
            "description_tooltip": null,
            "layout": "IPY_MODEL_cc1cbee1d1904d30a0b867cb2213f055",
            "placeholder": "​",
            "style": "IPY_MODEL_59f46382a95045f586886bc2aff84122",
            "value": " 44.7M/44.7M [00:00&lt;00:00, 129MB/s]"
          }
        },
        "58465ad6396b4ff390c35e913ffec134": {
          "model_module": "@jupyter-widgets/base",
          "model_name": "LayoutModel",
          "model_module_version": "1.2.0",
          "state": {
            "_model_module": "@jupyter-widgets/base",
            "_model_module_version": "1.2.0",
            "_model_name": "LayoutModel",
            "_view_count": null,
            "_view_module": "@jupyter-widgets/base",
            "_view_module_version": "1.2.0",
            "_view_name": "LayoutView",
            "align_content": null,
            "align_items": null,
            "align_self": null,
            "border": null,
            "bottom": null,
            "display": null,
            "flex": null,
            "flex_flow": null,
            "grid_area": null,
            "grid_auto_columns": null,
            "grid_auto_flow": null,
            "grid_auto_rows": null,
            "grid_column": null,
            "grid_gap": null,
            "grid_row": null,
            "grid_template_areas": null,
            "grid_template_columns": null,
            "grid_template_rows": null,
            "height": null,
            "justify_content": null,
            "justify_items": null,
            "left": null,
            "margin": null,
            "max_height": null,
            "max_width": null,
            "min_height": null,
            "min_width": null,
            "object_fit": null,
            "object_position": null,
            "order": null,
            "overflow": null,
            "overflow_x": null,
            "overflow_y": null,
            "padding": null,
            "right": null,
            "top": null,
            "visibility": null,
            "width": null
          }
        },
        "ba1e4968ba55443f86cb7259fc5b5694": {
          "model_module": "@jupyter-widgets/base",
          "model_name": "LayoutModel",
          "model_module_version": "1.2.0",
          "state": {
            "_model_module": "@jupyter-widgets/base",
            "_model_module_version": "1.2.0",
            "_model_name": "LayoutModel",
            "_view_count": null,
            "_view_module": "@jupyter-widgets/base",
            "_view_module_version": "1.2.0",
            "_view_name": "LayoutView",
            "align_content": null,
            "align_items": null,
            "align_self": null,
            "border": null,
            "bottom": null,
            "display": null,
            "flex": null,
            "flex_flow": null,
            "grid_area": null,
            "grid_auto_columns": null,
            "grid_auto_flow": null,
            "grid_auto_rows": null,
            "grid_column": null,
            "grid_gap": null,
            "grid_row": null,
            "grid_template_areas": null,
            "grid_template_columns": null,
            "grid_template_rows": null,
            "height": null,
            "justify_content": null,
            "justify_items": null,
            "left": null,
            "margin": null,
            "max_height": null,
            "max_width": null,
            "min_height": null,
            "min_width": null,
            "object_fit": null,
            "object_position": null,
            "order": null,
            "overflow": null,
            "overflow_x": null,
            "overflow_y": null,
            "padding": null,
            "right": null,
            "top": null,
            "visibility": null,
            "width": null
          }
        },
        "1e17c37359cc478bb7fadc031f08aeda": {
          "model_module": "@jupyter-widgets/controls",
          "model_name": "DescriptionStyleModel",
          "model_module_version": "1.5.0",
          "state": {
            "_model_module": "@jupyter-widgets/controls",
            "_model_module_version": "1.5.0",
            "_model_name": "DescriptionStyleModel",
            "_view_count": null,
            "_view_module": "@jupyter-widgets/base",
            "_view_module_version": "1.2.0",
            "_view_name": "StyleView",
            "description_width": ""
          }
        },
        "f7d8d0d342564781a644936925228928": {
          "model_module": "@jupyter-widgets/base",
          "model_name": "LayoutModel",
          "model_module_version": "1.2.0",
          "state": {
            "_model_module": "@jupyter-widgets/base",
            "_model_module_version": "1.2.0",
            "_model_name": "LayoutModel",
            "_view_count": null,
            "_view_module": "@jupyter-widgets/base",
            "_view_module_version": "1.2.0",
            "_view_name": "LayoutView",
            "align_content": null,
            "align_items": null,
            "align_self": null,
            "border": null,
            "bottom": null,
            "display": null,
            "flex": null,
            "flex_flow": null,
            "grid_area": null,
            "grid_auto_columns": null,
            "grid_auto_flow": null,
            "grid_auto_rows": null,
            "grid_column": null,
            "grid_gap": null,
            "grid_row": null,
            "grid_template_areas": null,
            "grid_template_columns": null,
            "grid_template_rows": null,
            "height": null,
            "justify_content": null,
            "justify_items": null,
            "left": null,
            "margin": null,
            "max_height": null,
            "max_width": null,
            "min_height": null,
            "min_width": null,
            "object_fit": null,
            "object_position": null,
            "order": null,
            "overflow": null,
            "overflow_x": null,
            "overflow_y": null,
            "padding": null,
            "right": null,
            "top": null,
            "visibility": null,
            "width": null
          }
        },
        "044e65f545384b7bbe934951eca02580": {
          "model_module": "@jupyter-widgets/controls",
          "model_name": "ProgressStyleModel",
          "model_module_version": "1.5.0",
          "state": {
            "_model_module": "@jupyter-widgets/controls",
            "_model_module_version": "1.5.0",
            "_model_name": "ProgressStyleModel",
            "_view_count": null,
            "_view_module": "@jupyter-widgets/base",
            "_view_module_version": "1.2.0",
            "_view_name": "StyleView",
            "bar_color": null,
            "description_width": ""
          }
        },
        "cc1cbee1d1904d30a0b867cb2213f055": {
          "model_module": "@jupyter-widgets/base",
          "model_name": "LayoutModel",
          "model_module_version": "1.2.0",
          "state": {
            "_model_module": "@jupyter-widgets/base",
            "_model_module_version": "1.2.0",
            "_model_name": "LayoutModel",
            "_view_count": null,
            "_view_module": "@jupyter-widgets/base",
            "_view_module_version": "1.2.0",
            "_view_name": "LayoutView",
            "align_content": null,
            "align_items": null,
            "align_self": null,
            "border": null,
            "bottom": null,
            "display": null,
            "flex": null,
            "flex_flow": null,
            "grid_area": null,
            "grid_auto_columns": null,
            "grid_auto_flow": null,
            "grid_auto_rows": null,
            "grid_column": null,
            "grid_gap": null,
            "grid_row": null,
            "grid_template_areas": null,
            "grid_template_columns": null,
            "grid_template_rows": null,
            "height": null,
            "justify_content": null,
            "justify_items": null,
            "left": null,
            "margin": null,
            "max_height": null,
            "max_width": null,
            "min_height": null,
            "min_width": null,
            "object_fit": null,
            "object_position": null,
            "order": null,
            "overflow": null,
            "overflow_x": null,
            "overflow_y": null,
            "padding": null,
            "right": null,
            "top": null,
            "visibility": null,
            "width": null
          }
        },
        "59f46382a95045f586886bc2aff84122": {
          "model_module": "@jupyter-widgets/controls",
          "model_name": "DescriptionStyleModel",
          "model_module_version": "1.5.0",
          "state": {
            "_model_module": "@jupyter-widgets/controls",
            "_model_module_version": "1.5.0",
            "_model_name": "DescriptionStyleModel",
            "_view_count": null,
            "_view_module": "@jupyter-widgets/base",
            "_view_module_version": "1.2.0",
            "_view_name": "StyleView",
            "description_width": ""
          }
        }
      }
    }
  },
  "cells": [
    {
      "cell_type": "code",
      "execution_count": 1,
      "metadata": {
        "id": "pPDlPzQZUibe"
      },
      "outputs": [],
      "source": [
        "import numpy as np\n",
        "import matplotlib.pyplot as plt\n",
        "import  torch \n",
        "from torch import nn, optim\n",
        "import torch.nn.functional as F\n",
        "from torch.utils.data import DataLoader, Dataset\n",
        "import h5py"
      ]
    },
    {
      "cell_type": "code",
      "source": [
        "all_dataset = h5py.File(\"/content/drive/MyDrive/projects/chiikawa_classification/data/datasets.hdf5\", \"r\")\n",
        "\n",
        "X_train = np.array(all_dataset[\"train_set_X\"])\n",
        "y_train = np.array(all_dataset[\"train_set_y\"])\n",
        "\n",
        "X_val = np.array(all_dataset[\"val_set_X\"])\n",
        "y_val = np.array(all_dataset[\"val_set_y\"])\n",
        "\n",
        "X_test = np.array(all_dataset[\"test_set_X\"])\n",
        "y_test = np.array(all_dataset[\"test_set_y\"])"
      ],
      "metadata": {
        "id": "M2VQbPqHh6NW"
      },
      "execution_count": 3,
      "outputs": []
    },
    {
      "cell_type": "code",
      "source": [
        "print(X_train.shape, X_val.shape, X_test.shape)"
      ],
      "metadata": {
        "colab": {
          "base_uri": "https://localhost:8080/"
        },
        "id": "39G1zSVQtjgt",
        "outputId": "776641e1-09c2-4937-9a8d-6c9011e176a1"
      },
      "execution_count": 4,
      "outputs": [
        {
          "output_type": "stream",
          "name": "stdout",
          "text": [
            "(897, 64, 64, 3) (100, 64, 64, 3) (100, 64, 64, 3)\n"
          ]
        }
      ]
    },
    {
      "cell_type": "code",
      "source": [
        "class ImageDataset(Dataset):\n",
        "    def __init__(self, x, y):\n",
        "        super().__init__()\n",
        "        self.x = torch.Tensor(x).permute(0,3,1,2).float() #NCHW -> NHWC\n",
        "        self.y = torch.Tensor(y).type(torch.LongTensor)\n",
        "               \n",
        "    def __len__(self):\n",
        "        return len(self.x)\n",
        "    \n",
        "    def __getitem__(self, index):\n",
        "        image = self.x[index] / 255.0\n",
        "        target = self.y[index]\n",
        "        \n",
        "        return image, target"
      ],
      "metadata": {
        "id": "V8Gswl5YlYSO"
      },
      "execution_count": 5,
      "outputs": []
    },
    {
      "cell_type": "code",
      "source": [
        "BATCH_SIZE = 32\n",
        "\n",
        "train_dataloader = DataLoader(ImageDataset(X_train, y_train), batch_size=BATCH_SIZE, shuffle=True)\n",
        "val_dataloader = DataLoader(ImageDataset(X_val, y_val), batch_size=BATCH_SIZE, shuffle=True)\n",
        "test_dataloader = DataLoader(ImageDataset(X_test, y_test), batch_size=BATCH_SIZE, shuffle=True)\n",
        "\n",
        "dataloaders_dict = {'train': train_dataloader, 'val': val_dataloader}"
      ],
      "metadata": {
        "id": "WLHgfXChCLq0"
      },
      "execution_count": 7,
      "outputs": []
    },
    {
      "cell_type": "code",
      "source": [
        "from torchvision import models\n",
        "\n",
        "model = models.resnet18(pretrained=True)\n",
        "num_ftrs = model.fc.in_features\n",
        "model.fc = nn.Linear(num_ftrs, 2)"
      ],
      "metadata": {
        "colab": {
          "base_uri": "https://localhost:8080/",
          "height": 67,
          "referenced_widgets": [
            "477ad0e400424d9cb74254d21f07d564",
            "aa98d7e0f89b441094e15d1cf971453d",
            "02f07d36577b4d218a6b4cb428e7f858",
            "fc5311da40184702936b31fb68ffabd8",
            "58465ad6396b4ff390c35e913ffec134",
            "ba1e4968ba55443f86cb7259fc5b5694",
            "1e17c37359cc478bb7fadc031f08aeda",
            "f7d8d0d342564781a644936925228928",
            "044e65f545384b7bbe934951eca02580",
            "cc1cbee1d1904d30a0b867cb2213f055",
            "59f46382a95045f586886bc2aff84122"
          ]
        },
        "id": "v4dBYEvoyQ2J",
        "outputId": "537a005d-8ffa-4f18-e5e8-ac48d89bc98b"
      },
      "execution_count": 8,
      "outputs": [
        {
          "output_type": "stream",
          "name": "stderr",
          "text": [
            "Downloading: \"https://download.pytorch.org/models/resnet18-f37072fd.pth\" to /root/.cache/torch/hub/checkpoints/resnet18-f37072fd.pth\n"
          ]
        },
        {
          "output_type": "display_data",
          "data": {
            "text/plain": [
              "  0%|          | 0.00/44.7M [00:00<?, ?B/s]"
            ],
            "application/vnd.jupyter.widget-view+json": {
              "version_major": 2,
              "version_minor": 0,
              "model_id": "477ad0e400424d9cb74254d21f07d564"
            }
          },
          "metadata": {}
        }
      ]
    },
    {
      "cell_type": "code",
      "source": [
        "n_epoch = 10\n",
        "lr = 2e-4\n",
        "\n",
        "opt = optim.Adam(model.parameters(), lr=lr)\n",
        "criterion = nn.CrossEntropyLoss()"
      ],
      "metadata": {
        "id": "mkTcbamNHqU8"
      },
      "execution_count": 9,
      "outputs": []
    },
    {
      "cell_type": "code",
      "source": [
        "def train_model(model, criterion, optimizer, num_epochs=10):\n",
        "    \n",
        "    device = torch.device('cuda:0' if torch.cuda.is_available() else 'cpu')\n",
        "    print(device)\n",
        "    model.to(device)\n",
        "\n",
        "    for epoch in range(num_epochs):\n",
        "        print('Epoch {}/{}'.format(epoch, num_epochs - 1))\n",
        "        print('-' * 10)\n",
        "\n",
        "        # Each epoch has a training and validation phase\n",
        "        for phase in ['train', 'val']:\n",
        "            if phase == 'train':\n",
        "                model.train()  # Set model to training mode\n",
        "            else:\n",
        "                model.eval()   # Set model to evaluate mode\n",
        "\n",
        "            running_loss = 0.0 # epochの損失和\n",
        "            running_corrects = 0 # epochの正解数\n",
        "\n",
        "            for inputs, labels in dataloaders_dict[phase]:\n",
        "                inputs = inputs.to(device)\n",
        "                labels = labels.to(device)\n",
        "\n",
        "                # zero the parameter gradients\n",
        "                optimizer.zero_grad()\n",
        "\n",
        "                #学習フェーズならパラメータ更新\n",
        "                with torch.set_grad_enabled(phase == 'train'):\n",
        "                    outputs = model(inputs)\n",
        "                    _, preds = torch.max(outputs, 1)\n",
        "                    loss = criterion(outputs, labels)\n",
        "\n",
        "                    if phase == 'train':\n",
        "                        loss.backward()\n",
        "                        optimizer.step()\n",
        "\n",
        "                running_loss += loss.item() * inputs.size(0)\n",
        "                running_corrects += torch.sum(preds == labels.data)\n",
        "            \n",
        "            epoch_loss = running_loss / len(dataloaders_dict[phase].dataset)\n",
        "            epoch_acc = running_corrects.double() / len(dataloaders_dict[phase].dataset)\n",
        "\n",
        "            print('{} Loss: {:.4f} Acc: {:.4f}'.format(\n",
        "                phase, epoch_loss, epoch_acc))\n",
        "\n",
        "    return model"
      ],
      "metadata": {
        "id": "sY7hF2yZMno3"
      },
      "execution_count": 10,
      "outputs": []
    },
    {
      "cell_type": "code",
      "source": [
        "model = train_model(model, criterion, opt, n_epoch)"
      ],
      "metadata": {
        "colab": {
          "base_uri": "https://localhost:8080/"
        },
        "id": "UMgd7dioMt43",
        "outputId": "7d3f4f70-d6aa-4522-f11d-67f1cad05954"
      },
      "execution_count": 11,
      "outputs": [
        {
          "output_type": "stream",
          "name": "stdout",
          "text": [
            "cuda:0\n",
            "Epoch 0/9\n",
            "----------\n",
            "train Loss: 0.0928 Acc: 0.9666\n",
            "val Loss: 0.0078 Acc: 0.9900\n",
            "Epoch 1/9\n",
            "----------\n",
            "train Loss: 0.0064 Acc: 0.9989\n",
            "val Loss: 0.0025 Acc: 1.0000\n",
            "Epoch 2/9\n",
            "----------\n",
            "train Loss: 0.0071 Acc: 0.9967\n",
            "val Loss: 0.0013 Acc: 1.0000\n",
            "Epoch 3/9\n",
            "----------\n",
            "train Loss: 0.0052 Acc: 0.9967\n",
            "val Loss: 0.0010 Acc: 1.0000\n",
            "Epoch 4/9\n",
            "----------\n",
            "train Loss: 0.0039 Acc: 1.0000\n",
            "val Loss: 0.0091 Acc: 0.9900\n",
            "Epoch 5/9\n",
            "----------\n",
            "train Loss: 0.0039 Acc: 0.9989\n",
            "val Loss: 0.0007 Acc: 1.0000\n",
            "Epoch 6/9\n",
            "----------\n",
            "train Loss: 0.0014 Acc: 1.0000\n",
            "val Loss: 0.0007 Acc: 1.0000\n",
            "Epoch 7/9\n",
            "----------\n",
            "train Loss: 0.0008 Acc: 1.0000\n",
            "val Loss: 0.0005 Acc: 1.0000\n",
            "Epoch 8/9\n",
            "----------\n",
            "train Loss: 0.0033 Acc: 0.9989\n",
            "val Loss: 0.0007 Acc: 1.0000\n",
            "Epoch 9/9\n",
            "----------\n",
            "train Loss: 0.0015 Acc: 0.9989\n",
            "val Loss: 0.0020 Acc: 1.0000\n"
          ]
        }
      ]
    },
    {
      "cell_type": "markdown",
      "source": [
        "### テストデータへの評価\n",
        "- 正解率\n",
        "- recall (再現率)\n",
        "- ちいかわなのにちいかわと予測できなかった画像表示"
      ],
      "metadata": {
        "id": "5DI741H9maCE"
      }
    },
    {
      "cell_type": "code",
      "source": [
        "device = torch.device('cuda:0' if torch.cuda.is_available() else 'cpu')\n",
        "print(device)\n",
        "model.eval()\n",
        "model.to(device)\n",
        "\n",
        "epoch_corrects = 0\n",
        "predictions = []\n",
        "targets = []\n",
        "images = []\n",
        "for inputs, labels in (test_dataloader):\n",
        "  images.extend(inputs)\n",
        "  inputs = inputs.to(device)\n",
        "  labels = labels.to(device)\n",
        "\n",
        "  with torch.set_grad_enabled(False):\n",
        "     outputs = model(inputs)\n",
        "     _, preds = torch.max(outputs, 1)\n",
        "     predictions.extend(preds.to('cpu').detach().numpy().copy())\n",
        "     targets.extend(labels.to('cpu').detach().numpy().copy())\n",
        "     epoch_corrects += torch.sum(preds == labels.data)\n",
        "\n",
        "epoch_acc = epoch_corrects.double() / len(test_dataloader.dataset)\n",
        "print('Accuracy: {:.4f}'.format(epoch_acc))"
      ],
      "metadata": {
        "colab": {
          "base_uri": "https://localhost:8080/"
        },
        "id": "Sagy87P66v1k",
        "outputId": "13d381e6-0e37-463b-dd45-d9066340e43b"
      },
      "execution_count": 12,
      "outputs": [
        {
          "output_type": "stream",
          "name": "stdout",
          "text": [
            "cuda:0\n",
            "Accuracy: 1.0000\n"
          ]
        }
      ]
    },
    {
      "cell_type": "code",
      "source": [
        "from sklearn.metrics import precision_score, recall_score\n",
        "from sklearn.metrics import confusion_matrix\n",
        "import matplotlib.pyplot as plt\n",
        "\n",
        "confmat = confusion_matrix(y_true=targets, y_pred=predictions)\n",
        "fig, ax = plt.subplots(figsize=(2.5, 2.5))\n",
        "ax.matshow(confmat, cmap=plt.cm.Blues, alpha=0.3)\n",
        "\n",
        "for i in range(confmat.shape[0]):\n",
        "  for j in range(confmat.shape[1]):\n",
        "    ax.text(x=j, y=i, s=confmat[i, j], va='center', ha='center')\n",
        "\n",
        "plt.xlabel('predicted label')\n",
        "plt.ylabel('true label')\n",
        "plt.tight_layout()\n",
        "plt.show()\n",
        "\n",
        "precision = precision_score(targets, predictions)\n",
        "recall = recall_score(targets, predictions)\n",
        "print(f'Precision：{precision}.')\n",
        "print(f'Recall：{recall}.')"
      ],
      "metadata": {
        "colab": {
          "base_uri": "https://localhost:8080/",
          "height": 224
        },
        "id": "vi3Uwyx7A-6M",
        "outputId": "a9b1e6c0-4659-4f55-dea9-104bedc461f1"
      },
      "execution_count": 13,
      "outputs": [
        {
          "output_type": "display_data",
          "data": {
            "text/plain": [
              "<Figure size 180x180 with 1 Axes>"
            ],
            "image/png": "[encoded data removed]"
          },
          "metadata": {
            "needs_background": "light"
          }
        },
        {
          "output_type": "stream",
          "name": "stdout",
          "text": [
            "Precision：1.0.\n",
            "Recall：1.0.\n"
          ]
        }
      ]
    },
    {
      "cell_type": "markdown",
      "source": [
        "ちいかわでないと予測したけどちいかわだったやつを抜き取る"
      ],
      "metadata": {
        "id": "LLp7U6zbwFDJ"
      }
    },
    {
      "cell_type": "code",
      "source": [
        "targets = np.array(targets)\n",
        "predictions = np.array(predictions)\n",
        "images = np.array(images)\n",
        "idx = np.where( (targets==1) & (predictions==0) )[0]"
      ],
      "metadata": {
        "id": "Njwzuo6Modiw",
        "colab": {
          "base_uri": "https://localhost:8080/"
        },
        "outputId": "770f6d20-cc4b-472a-934c-1e5a2cd978db"
      },
      "execution_count": 14,
      "outputs": [
        {
          "output_type": "stream",
          "name": "stderr",
          "text": [
            "/usr/local/lib/python3.7/dist-packages/ipykernel_launcher.py:3: FutureWarning: The input object of type 'Tensor' is an array-like implementing one of the corresponding protocols (`__array__`, `__array_interface__` or `__array_struct__`); but not a sequence (or 0-D). In the future, this object will be coerced as if it was first converted using `np.array(obj)`. To retain the old behaviour, you have to either modify the type 'Tensor', or assign to an empty array created with `np.empty(correct_shape, dtype=object)`.\n",
            "  This is separate from the ipykernel package so we can avoid doing imports until\n",
            "/usr/local/lib/python3.7/dist-packages/ipykernel_launcher.py:3: VisibleDeprecationWarning: Creating an ndarray from ragged nested sequences (which is a list-or-tuple of lists-or-tuples-or ndarrays with different lengths or shapes) is deprecated. If you meant to do this, you must specify 'dtype=object' when creating the ndarray.\n",
            "  This is separate from the ipykernel package so we can avoid doing imports until\n"
          ]
        }
      ]
    },
    {
      "cell_type": "code",
      "source": [
        "import matplotlib.pyplot as plt\n",
        "\n",
        "for i in idx:\n",
        "  print(i)\n",
        "  plt.imshow(images[i].to('cpu').detach().numpy().transpose(1, 2, 0))\n",
        "  plt.show()\n",
        "plt.close()"
      ],
      "metadata": {
        "id": "LYWzhmUArGz5"
      },
      "execution_count": 15,
      "outputs": []
    },
    {
      "cell_type": "code",
      "source": [
        ""
      ],
      "metadata": {
        "id": "N0qi9PjAwCgU"
      },
      "execution_count": null,
      "outputs": []
    },
    {
      "cell_type": "code",
      "source": [
        ""
      ],
      "metadata": {
        "id": "0ojq0Ji6wCk1"
      },
      "execution_count": null,
      "outputs": []
    }
  ]
}