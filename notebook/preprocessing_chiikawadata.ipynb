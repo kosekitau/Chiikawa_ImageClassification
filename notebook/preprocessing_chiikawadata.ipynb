{
  "nbformat": 4,
  "nbformat_minor": 0,
  "metadata": {
    "colab": {
      "name": "preprocessing_chiikawadata.ipynb",
      "provenance": []
    },
    "kernelspec": {
      "name": "python3",
      "display_name": "Python 3"
    },
    "language_info": {
      "name": "python"
    }
  },
  "cells": [
    {
      "cell_type": "code",
      "execution_count": 1,
      "metadata": {
        "id": "kOSg26eriP5t"
      },
      "outputs": [],
      "source": [
        "import os\n",
        "import numpy as np\n",
        "import pandas as pd\n",
        "import matplotlib.pyplot as plt\n",
        "import cv2\n",
        "import random\n",
        "import h5py"
      ]
    },
    {
      "cell_type": "code",
      "source": [
        "directory_train = \"/content/drive/MyDrive/projects/chiikawa_classification/\"\n",
        "categories_train = [\"non_chiikawa\", \"chiikawa\"] # non-chiikawaを0, chiikawaを1とする\n",
        "size = 64\n",
        "X = []\n",
        "y = []\n",
        "data_train = []\n",
        "\n",
        "for categ in categories_train:\n",
        "  label = categories_train.index(categ)\n",
        "  folder = os.path.join(directory_train, categ)\n",
        "  for image in os.listdir(folder):\n",
        "    image_path = os.path.join(folder, image)\n",
        "    image_array = cv2.imread(image_path)\n",
        "\n",
        "    if type(image_array) is np.ndarray:\n",
        "      if image_array.size == 0:\n",
        "        continue\n",
        "    if image_array is None:\n",
        "      continue\n",
        "    image_array = cv2.resize(image_array, (size, size))\n",
        "    data_train.append([image_array, label])\n",
        "\n",
        "random.shuffle(data_train)\n",
        "\n",
        "for feature,label in data_train:\n",
        "  X.append(feature)\n",
        "  y.append(label)\n",
        "\n",
        "X = np.array(X)\n",
        "y = np.array(y)\n",
        "\n",
        "print(len(data_train))\n",
        "print(X.shape)\n",
        "print(y.shape)"
      ],
      "metadata": {
        "colab": {
          "base_uri": "https://localhost:8080/"
        },
        "id": "jU4JQLssjoLe",
        "outputId": "79a7c516-efa3-4b8d-fef3-95e65c7c3c52"
      },
      "execution_count": 2,
      "outputs": [
        {
          "output_type": "stream",
          "name": "stdout",
          "text": [
            "1097\n",
            "(1097, 64, 64, 3)\n",
            "(1097,)\n"
          ]
        }
      ]
    },
    {
      "cell_type": "code",
      "source": [
        "from sklearn.model_selection import train_test_split\n",
        "import h5py\n",
        "\n",
        "# 学習とテストで分ける\n",
        "X_train, X_test, y_train, y_test = train_test_split(X, y, test_size=100, random_state=13)\n",
        "# 学習と評価で分ける\n",
        "X_train, X_val, y_train, y_val = train_test_split(X_train, y_train, test_size=100, random_state=13)\n",
        "\n",
        "\n",
        "h, w, c = 64, 64, 3\n",
        "filepath = '/content/drive/MyDrive/projects/chiikawa_classification/'\n",
        "f1 = h5py.File(filepath+\"datasets.hdf5\", \"w\")\n",
        "\n",
        "train_set_X = f1.create_dataset(\"train_set_X\", (len(X_train), h, w, c), data=X_train)\n",
        "train_set_y = f1.create_dataset(\"train_set_y\", (len(X_train), ), data=y_train)\n",
        "\n",
        "val_set_X = f1.create_dataset(\"val_set_X\", (len(X_val), h, w, c), data=X_val)\n",
        "val_set_y = f1.create_dataset(\"val_set_y\", (len(X_val), ), data=y_val)\n",
        "\n",
        "eval_set_X = f1.create_dataset(\"eval_set_X\", (len(X_test), h, w, c), data=X_test)\n",
        "eval_set_y = f1.create_dataset(\"eval_set_y\", (len(X_test), ), data=y_test)"
      ],
      "metadata": {
        "id": "FRITXFfQeqEW"
      },
      "execution_count": 15,
      "outputs": []
    },
    {
      "cell_type": "code",
      "source": [
        "f1.close()"
      ],
      "metadata": {
        "id": "lu7k0UoMgOch"
      },
      "execution_count": 16,
      "outputs": []
    },
    {
      "cell_type": "code",
      "source": [
        ""
      ],
      "metadata": {
        "id": "sXG5nmuTgQ27"
      },
      "execution_count": null,
      "outputs": []
    }
  ]
}